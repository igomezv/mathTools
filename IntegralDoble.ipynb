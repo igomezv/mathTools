{
 "cells": [
  {
   "cell_type": "code",
   "execution_count": 2,
   "metadata": {},
   "outputs": [],
   "source": [
    "from scipy.integrate import dblquad\n",
    "import numpy as np"
   ]
  },
  {
   "cell_type": "code",
   "execution_count": 3,
   "metadata": {},
   "outputs": [
    {
     "data": {
      "text/plain": [
       "235.85594033225414"
      ]
     },
     "execution_count": 3,
     "metadata": {},
     "output_type": "execute_result"
    }
   ],
   "source": [
    "#Esta funcion reproduce el calculo de Graff(2013) para la evidencia del eggbox\n",
    "def EggboxFunc1(y,x):\n",
    "    return ((1/(10*np.pi))**2)*np.exp((2 + np.cos(x/2)*np.cos(y/2))**5)\n",
    "\n",
    "int1 = dblquad(EggboxFunc1, 0, 10*np.pi, lambda x: 0, lambda x: 10*np.pi)\n",
    "np.log(int1[0])\n",
    "#dblquad(f, 0, y_max, lambda x: 0, lambda x: x_max)"
   ]
  },
  {
   "cell_type": "code",
   "execution_count": 9,
   "metadata": {},
   "outputs": [
    {
     "data": {
      "text/plain": [
       "array([ -4.16416448, -18.03754271])"
      ]
     },
     "execution_count": 9,
     "metadata": {},
     "output_type": "execute_result"
    }
   ],
   "source": [
    "tmax = 5.0 * np.pi\n",
    "constant = np.log(1.0 / tmax**2)\n",
    "\n",
    "def eggLoglike(y,x):\n",
    "    t1 = 2.0 * tmax * y - tmax\n",
    "    t2 = 2.0 * tmax * x - tmax\n",
    "    a = (2.0 + np.cos(t2/2.0)*np.cos(t1/2.0))**5.0\n",
    "    return np.exp(-(2.0 + np.cos(t2/2.0)*np.cos(t1/2.0))**5.0)\n",
    "\n",
    "int2 = dblquad(eggLoglike, 0, 1, lambda x: 0, lambda x: 1)\n",
    "np.log(int2)"
   ]
  },
  {
   "cell_type": "code",
   "execution_count": 11,
   "metadata": {},
   "outputs": [
    {
     "data": {
      "text/plain": [
       "array([ -5.50384972, -18.02820282])"
      ]
     },
     "execution_count": 11,
     "metadata": {},
     "output_type": "execute_result"
    }
   ],
   "source": [
    "def himmelLoglike(y,x):\n",
    "    return np.exp(-(x**2+y-11)**2.0-(x+y**2-7)**2)*((1/10)**2)\n",
    "\n",
    "int3 = dblquad(himmelLoglike, -5, 5, lambda x: -5, lambda x: 5)\n",
    "np.log(int3)"
   ]
  },
  {
   "cell_type": "code",
   "execution_count": 14,
   "metadata": {},
   "outputs": [
    {
     "data": {
      "text/plain": [
       "array([ -3.23464895, -18.03780583])"
      ]
     },
     "execution_count": 14,
     "metadata": {},
     "output_type": "execute_result"
    }
   ],
   "source": [
    "def ringLoglike(y,x):\n",
    "    r2=x**2+y**2\n",
    "    return np.exp(-(r2-4.0)**2/(2*0.5**2))*((1/10)**2)\n",
    "\n",
    "\n",
    "int4 = dblquad(ringLoglike, -5, 5, lambda x: -5, lambda x: 5)\n",
    "np.log(int4)"
   ]
  },
  {
   "cell_type": "code",
   "execution_count": 16,
   "metadata": {},
   "outputs": [
    {
     "data": {
      "text/plain": [
       "array([ -2.08681004, -18.41738485])"
      ]
     },
     "execution_count": 16,
     "metadata": {},
     "output_type": "execute_result"
    }
   ],
   "source": [
    "def gaussLoglike(y,x):\n",
    "        return np.exp(-((x)**2+(y)**2/2.0 - 1.0*x*y)/2.0)*((1/10)**2)\n",
    "\n",
    "\n",
    "int5 = dblquad(gaussLoglike, -5, 5, lambda x: -5, lambda x: 5)\n",
    "np.log(int5)"
   ]
  },
  {
   "cell_type": "code",
   "execution_count": 17,
   "metadata": {},
   "outputs": [
    {
     "data": {
      "text/plain": [
       "array([  1.        , -31.13163038])"
      ]
     },
     "execution_count": 17,
     "metadata": {},
     "output_type": "execute_result"
    }
   ],
   "source": [
    "def squareLoglike(y,x):\n",
    "    sq = 1.\n",
    "    if abs(x)>5 or abs(y)>5:\n",
    "        sq = 0.\n",
    "    return np.exp(sq)*((1/10)**2)\n",
    "\n",
    "\n",
    "int5 = dblquad(squareLoglike, -5, 5, lambda x: -5, lambda x: 5)\n",
    "np.log(int5)\n"
   ]
  },
  {
   "cell_type": "code",
   "execution_count": null,
   "metadata": {},
   "outputs": [],
   "source": []
  }
 ],
 "metadata": {
  "kernelspec": {
   "display_name": "Python 3",
   "language": "python",
   "name": "python3"
  },
  "language_info": {
   "codemirror_mode": {
    "name": "ipython",
    "version": 3
   },
   "file_extension": ".py",
   "mimetype": "text/x-python",
   "name": "python",
   "nbconvert_exporter": "python",
   "pygments_lexer": "ipython3",
   "version": "3.6.9"
  }
 },
 "nbformat": 4,
 "nbformat_minor": 2
}
